{
  "cells": [
    {
      "cell_type": "markdown",
      "id": "60614b50",
      "metadata": {
        "id": "60614b50"
      },
      "source": [
        "# question3"
      ]
    },
    {
      "cell_type": "code",
      "execution_count": 1,
      "id": "94f234ff",
      "metadata": {
        "id": "94f234ff"
      },
      "outputs": [],
      "source": [
        "import matplotlib.pyplot as plt\n",
        "import math\n",
        "from numpy import*\n",
        "import pandas as pd\n",
        "from scipy.stats import * \n",
        "from scipy.optimize import newton\n",
        "set_printoptions(threshold=float('inf'), linewidth= 200, suppress = True)\n",
        "pd.set_option('display.float_format', lambda x: '%.5f' % x)"
      ]
    },
    {
      "cell_type": "code",
      "execution_count": 2,
      "id": "3cbfb640",
      "metadata": {
        "id": "3cbfb640"
      },
      "outputs": [],
      "source": [
        "    b = -5.86\n",
        "    sd = 1\n",
        "    r0 = 0.05\n",
        "    gamma = 2"
      ]
    },
    {
      "cell_type": "code",
      "execution_count": 7,
      "id": "a209fb2d",
      "metadata": {
        "id": "a209fb2d"
      },
      "outputs": [],
      "source": [
        "def shortir(a, r0, T, paths, steps):\n",
        "    \n",
        "    dt = T/steps \n",
        "    rt = zeros((paths, steps + 1))\n",
        "    rt[:, 0] = r0\n",
        "    for i in range(1, steps + 1):\n",
        "        rt[:,i] = (a + b* rt[:,i-1]) *dt + (rt[:,i-1]**gamma)* sd* sqrt(dt)*random.normal(0, 1, paths)\n",
        "    return rt"
      ]
    },
    {
      "cell_type": "code",
      "execution_count": 6,
      "id": "1196c80b",
      "metadata": {
        "id": "1196c80b"
      },
      "outputs": [],
      "source": [
        "def zcb(a, r0, t, T, F):\n",
        "\n",
        "    paths = 1000\n",
        "    steps = int(365*(T - t))\n",
        "    dt = (T - t)/steps\n",
        "    r = shortir(a, r0, (T - t), paths, steps)\n",
        "    \n",
        "    P = mean(F * exp(-sum(r, axis = 1)*dt))\n",
        "    \n",
        "    return P"
      ]
    },
    {
      "cell_type": "code",
      "execution_count": 8,
      "id": "64d54f6e",
      "metadata": {
        "colab": {
          "base_uri": "https://localhost:8080/"
        },
        "id": "64d54f6e",
        "outputId": "2afe80a5-ab92-4ec6-b60e-d9e859abd9d4"
      },
      "outputs": [
        {
          "output_type": "execute_result",
          "data": {
            "text/plain": [
              "0.9988950286746697"
            ]
          },
          "metadata": {},
          "execution_count": 8
        }
      ],
      "source": [
        "zcb(a= 0.36, r0 = 0.05, t = 0, T = 1, F = 1)"
      ]
    },
    {
      "cell_type": "code",
      "execution_count": 9,
      "id": "ca041943",
      "metadata": {
        "colab": {
          "base_uri": "https://localhost:8080/"
        },
        "id": "ca041943",
        "outputId": "3dec4670-5ae3-4012-8d79-e30ad3c33648"
      },
      "outputs": [
        {
          "output_type": "execute_result",
          "data": {
            "text/plain": [
              "[0.999379997419225,\n",
              " 0.9992183230909603,\n",
              " 0.9988950099094223,\n",
              " 0.998733446080651,\n",
              " 0.9985718560847516,\n",
              " 0.9984102913580959]"
            ]
          },
          "metadata": {},
          "execution_count": 9
        }
      ],
      "source": [
        "S = []\n",
        "for i in [0.18, 0.24, 0.36, 0.42, 0.48, 0.54]:\n",
        "  S.append(zcb(a= i, r0 = 0.05, t = 0, T = 1, F = 1))\n",
        "    \n",
        "S"
      ]
    },
    {
      "cell_type": "code",
      "execution_count": null,
      "id": "d6312cac",
      "metadata": {
        "id": "d6312cac"
      },
      "outputs": [],
      "source": [
        ""
      ]
    },
    {
      "cell_type": "code",
      "execution_count": null,
      "id": "bc95f670",
      "metadata": {
        "id": "bc95f670"
      },
      "outputs": [],
      "source": [
        ""
      ]
    },
    {
      "cell_type": "code",
      "execution_count": null,
      "id": "e4e9c05d",
      "metadata": {
        "id": "e4e9c05d"
      },
      "outputs": [],
      "source": [
        ""
      ]
    }
  ],
  "metadata": {
    "kernelspec": {
      "display_name": "Python 3 (ipykernel)",
      "language": "python",
      "name": "python3"
    },
    "language_info": {
      "codemirror_mode": {
        "name": "ipython",
        "version": 3
      },
      "file_extension": ".py",
      "mimetype": "text/x-python",
      "name": "python",
      "nbconvert_exporter": "python",
      "pygments_lexer": "ipython3",
      "version": "3.9.7"
    },
    "colab": {
      "name": "Final_3.ipynb",
      "provenance": []
    }
  },
  "nbformat": 4,
  "nbformat_minor": 5
}