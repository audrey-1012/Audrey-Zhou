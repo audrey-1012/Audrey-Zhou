{
 "cells": [
  {
   "cell_type": "code",
   "execution_count": 1,
   "metadata": {
    "id": "xwTX-jOj45M6"
   },
   "outputs": [],
   "source": [
    "import matplotlib.pyplot as plt\n",
    "import numpy as np\n",
    "import pandas as pd\n",
    "from scipy.optimize import newton\n",
    "from scipy.stats import *"
   ]
  },
  {
   "cell_type": "code",
   "execution_count": 2,
   "metadata": {
    "id": "JMr_wz2o9OOj"
   },
   "outputs": [],
   "source": [
    "def CIR(r0, alpha, beta, gamma, sigma, T, paths):\n",
    "    np.random.seed(7)\n",
    "    dt = 1/120\n",
    "    steps = int(T/dt)\n",
    "    rt = np.zeros((paths, steps + 1))\n",
    "    rt[:, 0] = r0\n",
    "    \n",
    "    for i in range(1, steps):\n",
    "        rt[:,i] = (np.maximum(rt[:,i-1], 0) + (alpha+beta*np.maximum(rt[:,i-1], 0))*dt \n",
    "                    + sigma*(np.maximum(rt[:,i-1], 0))**gamma * np.sqrt(dt)*np.random.normal(0, 1, paths))\n",
    "    return rt"
   ]
  },
  {
   "cell_type": "code",
   "execution_count": 3,
   "metadata": {
    "id": "Q81hlHLN9AnT"
   },
   "outputs": [],
   "source": [
    "def discount_factor(r0, alpha, beta, gamma, sigma, T, paths):\n",
    "    dt = 1/120\n",
    "    ru = CIR(r0, alpha, beta, gamma, sigma, T, paths)\n",
    "    df = np.exp(-np.cumsum(ru*dt , axis = 1))\n",
    "\n",
    "    pay_time = np.arange(1, T*12 + 1) * 10 - 1\n",
    "    \n",
    "    return df[:, pay_time]"
   ]
  },
  {
   "cell_type": "code",
   "execution_count": 4,
   "metadata": {
    "id": "GAoQ1dmV_msv"
   },
   "outputs": [],
   "source": [
    "def Zero10Yr(rt, alpha, beta, gamma, sigma, T, t):\n",
    "    \n",
    "    h1 = np.sqrt(alpha**2 + 2*sigma**2)\n",
    "    h2 = (alpha + h1)/2\n",
    "    h3 = (2*(-alpha/beta))/sigma**2\n",
    "    \n",
    "    A = ((h1 * np.exp(h2*(T - t)))/(h2 * (np.exp(h1*(T - t)) - 1) + h1))**h3\n",
    "    B = (np.exp(h1*(T - t)) - 1)/(h2 * (np.exp(h1*(T - t)) - 1) + h1)\n",
    "    \n",
    "    return A*np.exp(-B*rt)"
   ]
  },
  {
   "cell_type": "code",
   "execution_count": 5,
   "metadata": {
    "id": "71SL4GN6_6hx"
   },
   "outputs": [],
   "source": [
    "def spotRate_10yr(r0, alpha, beta, gamma, sigma, T, paths):\n",
    "   \n",
    "    ru = CIR(r0, alpha, beta, gamma, sigma, T, paths)\n",
    "    zeros10yr = np.array(list(map(lambda rt: Zero10Yr(rt, alpha, beta, gamma, sigma, 10, 0), ru)))\n",
    "    spot_rate = -1/10*np.log(zeros10yr)\n",
    "    \n",
    "    pay_time = np.arange(1, T*12 + 1) * 10 - 1\n",
    "\n",
    "    return spot_rate[:, pay_time]"
   ]
  },
  {
   "cell_type": "code",
   "execution_count": 6,
   "metadata": {
    "id": "nJz8stpd4nUt"
   },
   "outputs": [],
   "source": [
    "def refinanceIncentive(R, r_120):\n",
    "  RI = 0.28 + 0.14*np.arctan(-8.57 + 430*(R - r_120))\n",
    "  return RI"
   ]
  },
  {
   "cell_type": "code",
   "execution_count": 7,
   "metadata": {
    "id": "Z2_E0T-05V_n"
   },
   "outputs": [],
   "source": [
    "def burnoutEffect(PV_pre, PV_0):\n",
    "  BU = 0.3 + 0.7*(PV_pre/PV_0)\n",
    "  return BU"
   ]
  },
  {
   "cell_type": "code",
   "execution_count": 8,
   "metadata": {
    "id": "knxAyVdY5V09"
   },
   "outputs": [],
   "source": [
    "def seasonality(t):\n",
    "  SG = np.minimum(1, t/30)\n",
    "  return SG"
   ]
  },
  {
   "cell_type": "code",
   "execution_count": 9,
   "metadata": {
    "id": "CjykgP0P6E-b"
   },
   "outputs": [],
   "source": [
    "def seasoning(month):\n",
    "  SY = [0.94, 0.76, 0.74, 0.95, 0.98, 0.92, 0.98, 1.10, 1.18, 1.22, 1.23, 0.98]\n",
    "  return SY[month]"
   ]
  },
  {
   "cell_type": "code",
   "execution_count": 10,
   "metadata": {
    "id": "BrgMfzaI6TX8"
   },
   "outputs": [],
   "source": [
    "def CPR_t(t, R, r_120, PV_pre, PV_0):\n",
    "  RI_t = refinanceIncentive(R, r_120)\n",
    "  BU_t = burnoutEffect(PV_pre, PV_0)\n",
    "  SG_t = seasonality(t)\n",
    "  SY_t = seasoning(int((t - 1)%12))\n",
    "  CPR_t = RI_t * BU_t * SG_t * SY_t\n",
    "  return CPR_t"
   ]
  },
  {
   "cell_type": "code",
   "execution_count": 11,
   "metadata": {
    "id": "O63138uu6qHR"
   },
   "outputs": [],
   "source": [
    "def Numerix_IO_PO(PV_0, total_years, WAC, r0, k, r_mean, sd):\n",
    "   \n",
    "    # initialize parameters\n",
    "    r = WAC/12\n",
    "    N = total_years*12\n",
    "    paths = 10000\n",
    "    PV_pre = np.array([PV_0]*paths)\n",
    "    ct = np.zeros((paths, N))\n",
    "    \n",
    "    # Initialize PO, IO portion of the MBS\n",
    "    Interest = np.zeros((paths, N))\n",
    "    Principal = np.zeros((paths, N))\n",
    "    \n",
    "    # find discount factor\n",
    "    dft = discount_factor(r0, sd, k, r_mean, total_years, paths)\n",
    "    \n",
    "    # find 10 year spot yield\n",
    "    r_10 = spotRate_10yr(r0, sd, k, r_mean, total_years, paths)\n",
    "     \n",
    "    for t in range(1 , N + 1):\n",
    "        # find CPRt\n",
    "        CPRt_Numerix = CPR_t(t, WAC, r_10[:, t - 1], PV_pre, PV_0)\n",
    "        # find cash flow at t\n",
    "        ct[:, t - 1] = cash_flow_t(t, total_years, PV_pre, r, N, CPRt_Numerix)\n",
    "        # find total principal payment\n",
    "        Interest[:, t - 1] = PV_pre*r\n",
    "        TPPt = ct[:, t - 1] - PV_pre*r\n",
    "        Principal[:, t - 1] =  TPPt\n",
    "        # Update next period present value, PVt\n",
    "        PV_pre = PV_pre - TPPt\n",
    "\n",
    "   \n",
    "    IO = np.mean(sum(dft*Interest, axis = 1))\n",
    "    PO = np.mean(sum(dft*Principal, axis = 1))\n",
    "    \n",
    "    return [IO, PO]"
   ]
  },
  {
   "cell_type": "code",
   "execution_count": 12,
   "metadata": {},
   "outputs": [],
   "source": [
    "def cash_flow_t(t, T, PV_pre, r, N, CPR_t):\n",
    "    \n",
    "    MPt = (PV_pre*r)/(1 - (1 + r)**(-N + (t - 1)))\n",
    "\n",
    "    SPPt = PV_pre*r*(1/(1 - (1 + r)**(-N + (t - 1))) -  1)\n",
    "    \n",
    "    PPt = (PV_pre - SPPt)*(1 - (1 - CPR_t)**(1/12))\n",
    "    \n",
    "    ct = MPt + PPt\n",
    "    return ct"
   ]
  },
  {
   "cell_type": "code",
   "execution_count": null,
   "metadata": {},
   "outputs": [],
   "source": []
  }
 ],
 "metadata": {
  "colab": {
   "name": "MGMTMFE 405.ipynb",
   "provenance": []
  },
  "kernelspec": {
   "display_name": "Python 3 (ipykernel)",
   "language": "python",
   "name": "python3"
  },
  "language_info": {
   "codemirror_mode": {
    "name": "ipython",
    "version": 3
   },
   "file_extension": ".py",
   "mimetype": "text/x-python",
   "name": "python",
   "nbconvert_exporter": "python",
   "pygments_lexer": "ipython3",
   "version": "3.9.7"
  }
 },
 "nbformat": 4,
 "nbformat_minor": 1
}
