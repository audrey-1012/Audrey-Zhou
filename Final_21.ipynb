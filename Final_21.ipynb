{
 "cells": [
  {
   "cell_type": "code",
   "execution_count": 4,
   "metadata": {},
   "outputs": [
    {
     "data": {
      "text/plain": [
       "-2.8334994653271393"
      ]
     },
     "execution_count": 4,
     "metadata": {},
     "output_type": "execute_result"
    }
   ],
   "source": [
    "import pandas as pd\n",
    "import numpy as np\n",
    "import math\n",
    "\n",
    "sigma1 = 0.25\n",
    "sigma2 = 0.35\n",
    "S01 = 50\n",
    "S02 = 335\n",
    "r = 0.03\n",
    "rho = 0.8\n",
    "T = 0.5\n",
    "\n",
    "def exchange_price(T,rho,r,sigma1,sigma2,S01,S02,a,b):\n",
    "    paths = 1000\n",
    "    S1 = np.empty(paths)\n",
    "    S2 = np.empty(paths)\n",
    "    p = 1000\n",
    "    for j in range(paths):\n",
    "        Z1,Z2 = np.random.multivariate_normal([0,0], [[1, 0], [0, 1]], p).T\n",
    "        s1 = np.empty(p)\n",
    "        s2 = np.empty(p)\n",
    "        dt = T/p\n",
    "        s1[0] = S01\n",
    "        s2[0] = S02\n",
    "        W1 = np.sqrt(dt)*Z1\n",
    "        W2 = np.sqrt(dt)*rho*Z1 + np.sqrt(dt)*np.sqrt(1-rho**2)*Z2\n",
    "        for i in range(1,p):\n",
    "            s1[i] = s1[i-1] + (r*s1[i-1])*(dt) + sigma1*s1[i-1]*W1[i]\n",
    "            s2[i] = s2[i-1] + (r*s2[i-1])*(dt) + sigma2*s2[i-1]*W1[i]\n",
    "        S1[j] = s1[p-1]\n",
    "        S2[j] = s2[p-1]\n",
    "    return np.exp(-r*T)*np.mean(b*S1-a*S2)\n",
    "\n",
    "# (a)\n",
    "exchange_price(T,rho,r,sigma1,sigma2,S01,S02,3,20)"
   ]
  },
  {
   "cell_type": "code",
   "execution_count": 9,
   "metadata": {},
   "outputs": [
    {
     "data": {
      "text/plain": [
       "25.962242908215888"
      ]
     },
     "execution_count": 9,
     "metadata": {},
     "output_type": "execute_result"
    }
   ],
   "source": [
    "def spread_price(T,rho,r,sigma1,sigma2,S01,S02,a,b):\n",
    "    paths = 1000\n",
    "    S1 = np.empty(paths)\n",
    "    S2 = np.empty(paths)\n",
    "    p = 1000\n",
    "    K = 10\n",
    "    for j in range(paths):\n",
    "        Z1,Z2 = np.random.multivariate_normal([0,0], [[1, 0], [0, 1]], p).T\n",
    "        s1 = np.empty(p)\n",
    "        s2 = np.empty(p)\n",
    "        dt = T/p\n",
    "        s1[0] = S01\n",
    "        s2[0] = S02\n",
    "        W1 = np.sqrt(dt)*Z1\n",
    "        W2 = np.sqrt(dt)*rho*Z1 + np.sqrt(dt)*np.sqrt(1-rho**2)*Z2\n",
    "        for i in range(1,p):\n",
    "            s1[i] = s1[i-1] + (r*s1[i-1])*(dt) + sigma1*s1[i-1]*W1[i]\n",
    "            s2[i] = s2[i-1] + (r*s2[i-1])*(dt) + sigma2*s2[i-1]*W1[i]\n",
    "        S1[j] = s1[p-1]\n",
    "        S2[j] = s2[p-1]\n",
    "    return np.exp(-r*T)*np.mean(np.maximum(a*S2-b*S1-K,0))\n",
    "\n",
    "# (b)\n",
    "spread_price(T,rho,r,sigma1,sigma2,S01,S02,3,20)"
   ]
  },
  {
   "cell_type": "code",
   "execution_count": null,
   "metadata": {},
   "outputs": [],
   "source": []
  }
 ],
 "metadata": {
  "kernelspec": {
   "display_name": "Python 3 (ipykernel)",
   "language": "python",
   "name": "python3"
  },
  "language_info": {
   "codemirror_mode": {
    "name": "ipython",
    "version": 3
   },
   "file_extension": ".py",
   "mimetype": "text/x-python",
   "name": "python",
   "nbconvert_exporter": "python",
   "pygments_lexer": "ipython3",
   "version": "3.9.7"
  }
 },
 "nbformat": 4,
 "nbformat_minor": 4
}
